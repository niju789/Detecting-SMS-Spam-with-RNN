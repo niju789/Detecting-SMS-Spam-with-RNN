{
 "cells": [
  {
   "cell_type": "markdown",
   "metadata": {},
   "source": [
    "# Detecting SMS Spam with RNN\n",
    "\n",
    "## 1 - About\n",
    "\n",
    "### 1.1 - Goal/Motivation\n",
    "\n",
    "The goal of this project is to develop and train a model that can effectively detect spam SMS messages.\n",
    "\n",
    "### 1.2 - Task\n",
    "\n",
    "This is a text classification task that will require a classifier model to be developed. The classifier will be trained to classify SMS messages as spam or ham (not spam).\n",
    "\n",
    "### 1.3 - Type of Learning\n",
    "\n",
    "This is a natural language processing (NLP) problem since the data that needs to be classified is text data in the form of SMS messages.\n",
    "\n",
    "### 1.4 - Algorithm\n",
    "\n",
    "The data used for this task is text data. Text data is sequential data, so a Recurrent Neural Network (RNN) is very appropriate for this task."
   ]
  },
  {
   "cell_type": "markdown",
   "metadata": {},
   "source": [
    "## 2 - Data\n",
    "\n",
    "### 2.1 - Source\n",
    "\n",
    "The data for this project was obtained from the University of California Irvine Machine Learning Repository. The data was collected from various sources such as Grumbletext, National University of Singapore SMS Corpus, A Corpus Linguistics Study of SMS Text Messaging by Caroline Tagg, and SMS Spam Corpus v.0.1.\n",
    "\n",
    "Almeida, T. & Hidalgo, J. (2011). SMS Spam Collection [Dataset]. UCI Machine Learning Repository. https://doi.org/10.24432/C5CC84.\n",
    "\n",
    "### 2.2 - Description\n",
    "\n",
    "The dataset contains a total of 5572 SMS messages. Out of these, 4825 messages are not spam and 747 messages are spam. On average, each message contains approximately 16 words."
   ]
  },
  {
   "cell_type": "markdown",
   "metadata": {},
   "source": [
    "## 3 - Exploratory Data Analysis (EDA)\n",
    "\n",
    "### 3.1 - Data Inspection"
   ]
  },
  {
   "cell_type": "code",
   "execution_count": 1,
   "metadata": {},
   "outputs": [
    {
     "name": "stdout",
     "output_type": "stream",
     "text": [
      "(5572, 2)\n"
     ]
    },
    {
     "data": {
      "text/html": [
       "<div>\n",
       "<style scoped>\n",
       "    .dataframe tbody tr th:only-of-type {\n",
       "        vertical-align: middle;\n",
       "    }\n",
       "\n",
       "    .dataframe tbody tr th {\n",
       "        vertical-align: top;\n",
       "    }\n",
       "\n",
       "    .dataframe thead th {\n",
       "        text-align: right;\n",
       "    }\n",
       "</style>\n",
       "<table border=\"1\" class=\"dataframe\">\n",
       "  <thead>\n",
       "    <tr style=\"text-align: right;\">\n",
       "      <th></th>\n",
       "      <th>class</th>\n",
       "      <th>text</th>\n",
       "    </tr>\n",
       "  </thead>\n",
       "  <tbody>\n",
       "    <tr>\n",
       "      <th>0</th>\n",
       "      <td>ham</td>\n",
       "      <td>Go until jurong point, crazy.. Available only ...</td>\n",
       "    </tr>\n",
       "    <tr>\n",
       "      <th>1</th>\n",
       "      <td>ham</td>\n",
       "      <td>Ok lar... Joking wif u oni...</td>\n",
       "    </tr>\n",
       "    <tr>\n",
       "      <th>2</th>\n",
       "      <td>spam</td>\n",
       "      <td>Free entry in 2 a wkly comp to win FA Cup fina...</td>\n",
       "    </tr>\n",
       "    <tr>\n",
       "      <th>3</th>\n",
       "      <td>ham</td>\n",
       "      <td>U dun say so early hor... U c already then say...</td>\n",
       "    </tr>\n",
       "    <tr>\n",
       "      <th>4</th>\n",
       "      <td>ham</td>\n",
       "      <td>Nah I don't think he goes to usf, he lives aro...</td>\n",
       "    </tr>\n",
       "  </tbody>\n",
       "</table>\n",
       "</div>"
      ],
      "text/plain": [
       "  class                                               text\n",
       "0   ham  Go until jurong point, crazy.. Available only ...\n",
       "1   ham                      Ok lar... Joking wif u oni...\n",
       "2  spam  Free entry in 2 a wkly comp to win FA Cup fina...\n",
       "3   ham  U dun say so early hor... U c already then say...\n",
       "4   ham  Nah I don't think he goes to usf, he lives aro..."
      ]
     },
     "execution_count": 1,
     "metadata": {},
     "output_type": "execute_result"
    }
   ],
   "source": [
    "import pandas as pd\n",
    "\n",
    "# Load data from file into Pandas DataFrame object\n",
    "data = pd.read_csv('./SMSSpamCollection', sep='\\t', names=['class', 'text'])\n",
    "print(data.shape)\n",
    "\n",
    "# Show first 5 rows of the data\n",
    "data.head()"
   ]
  },
  {
   "cell_type": "markdown",
   "metadata": {},
   "source": [
    "#### 3.1.1 - Sample Spam Messages"
   ]
  },
  {
   "cell_type": "code",
   "execution_count": 2,
   "metadata": {},
   "outputs": [
    {
     "name": "stdout",
     "output_type": "stream",
     "text": [
      "=== Sample 1 ===\n",
      "Free entry in 2 a wkly comp to win FA Cup final tkts 21st May 2005. Text FA to 87121 to receive entry question(std txt rate)T&C's apply 08452810075over18's\n",
      "\n",
      "=== Sample 2 ===\n",
      "FreeMsg Hey there darling it's been 3 week's now and no word back! I'd like some fun you up for it still? Tb ok! XxX std chgs to send, £1.50 to rcv\n",
      "\n",
      "=== Sample 3 ===\n",
      "WINNER!! As a valued network customer you have been selected to receivea £900 prize reward! To claim call 09061701461. Claim code KL341. Valid 12 hours only.\n",
      "\n",
      "=== Sample 4 ===\n",
      "Had your mobile 11 months or more? U R entitled to Update to the latest colour mobiles with camera for Free! Call The Mobile Update Co FREE on 08002986030\n",
      "\n",
      "=== Sample 5 ===\n",
      "SIX chances to win CASH! From 100 to 20,000 pounds txt> CSH11 and send to 87575. Cost 150p/day, 6days, 16+ TsandCs apply Reply HL 4 info\n",
      "\n"
     ]
    }
   ],
   "source": [
    "# Print the \"text\" value of the first 5 spam samples\n",
    "for i in range(5):\n",
    "    print(f'=== Sample {i + 1} ===')\n",
    "    print(data[data['class'] == 'spam']['text'].iloc[i])\n",
    "    print()"
   ]
  },
  {
   "cell_type": "markdown",
   "metadata": {},
   "source": [
    "#### 3.1.2 - Sample Ham (Not Spam) Messages"
   ]
  },
  {
   "cell_type": "code",
   "execution_count": 3,
   "metadata": {},
   "outputs": [
    {
     "name": "stdout",
     "output_type": "stream",
     "text": [
      "=== Sample 1 ===\n",
      "Go until jurong point, crazy.. Available only in bugis n great world la e buffet... Cine there got amore wat...\n",
      "\n",
      "=== Sample 2 ===\n",
      "Ok lar... Joking wif u oni...\n",
      "\n",
      "=== Sample 3 ===\n",
      "U dun say so early hor... U c already then say...\n",
      "\n",
      "=== Sample 4 ===\n",
      "Nah I don't think he goes to usf, he lives around here though\n",
      "\n",
      "=== Sample 5 ===\n",
      "Even my brother is not like to speak with me. They treat me like aids patent.\n",
      "\n"
     ]
    }
   ],
   "source": [
    "# Print the \"text\" value of the first 5 ham samples\n",
    "for i in range(5):\n",
    "    print(f'=== Sample {i + 1} ===')\n",
    "    print(data[data['class'] == 'ham']['text'].iloc[i])\n",
    "    print()"
   ]
  },
  {
   "cell_type": "markdown",
   "metadata": {},
   "source": [
    "### 3.2 - Data Visualization\n",
    "\n",
    "#### 3.2.1 - Class Distribution"
   ]
  },
  {
   "cell_type": "code",
   "execution_count": 4,
   "metadata": {},
   "outputs": [
    {
     "data": {
      "image/png": "[encoded data removed]",
      "text/plain": [
       "<Figure size 640x480 with 1 Axes>"
      ]
     },
     "metadata": {},
     "output_type": "display_data"
    }
   ],
   "source": [
    "import matplotlib.pyplot as plt\n",
    "\n",
    "class_counts = data['class'].value_counts()\n",
    "\n",
    "plt.bar(class_counts.index, class_counts.values)\n",
    "plt.xlabel('Class')\n",
    "plt.ylabel('Frequency')\n",
    "plt.title('Class Distribution')\n",
    "plt.show()"
   ]
  },
  {
   "cell_type": "markdown",
   "metadata": {},
   "source": [
    "The classes are quite imbalanced. This will need to be addressed.\n",
    "\n",
    "#### 3.2.2 - Word Count Distribution"
   ]
  },
  {
   "cell_type": "code",
   "execution_count": 5,
   "metadata": {},
   "outputs": [
    {
     "data": {
      "image/png": "[encoded data removed]",
      "text/plain": [
       "<Figure size 640x480 with 1 Axes>"
      ]
     },
     "metadata": {},
     "output_type": "display_data"
    }
   ],
   "source": [
    "plt.hist(data['text'].str.split().str.len())\n",
    "plt.xlabel('Word Count')\n",
    "plt.ylabel('Frequency')\n",
    "plt.title('Distribution of Word Counts')\n",
    "plt.show()"
   ]
  },
  {
   "cell_type": "markdown",
   "metadata": {},
   "source": [
    "The word count for most messages look to be between 0 and 35."
   ]
  },
  {
   "cell_type": "markdown",
   "metadata": {},
   "source": [
    "## 4 - Data Preprocessing\n",
    "\n",
    "### 4.1 - Class\n",
    "\n",
    "Since this is a binary classification problem and since the output of the model when predicting will be numeric, it makes sense to convert the class label \"ham\" to 0 and \"spam\" to 1."
   ]
  },
  {
   "cell_type": "code",
   "execution_count": 6,
   "metadata": {},
   "outputs": [
    {
     "data": {
      "text/plain": [
       "array([0, 0, 1, 0, 0])"
      ]
     },
     "execution_count": 6,
     "metadata": {},
     "output_type": "execute_result"
    }
   ],
   "source": [
    "import numpy as np\n",
    "\n",
    "y = np.array([1 if label == 'spam' else 0 for label in data['class']])\n",
    "y[:5]"
   ]
  },
  {
   "cell_type": "markdown",
   "metadata": {},
   "source": [
    "### 4.2 - Word Embedding\n",
    "\n",
    "The Term Frequency - Inverse Document Frequency (TF-IDF) method will be used to extract the text from the messages into a feature matrix. TF-IDF calculates the importance of a word in a document based on the number of times the word appears in the document and the number of documents the word appears in from the collection of documents. The reasoning for choosing this extraction method is that it gives more weight to words that are rare across all documents but appear more frequently in one document and less weight to words that appear frequently in every document."
   ]
  },
  {
   "cell_type": "code",
   "execution_count": 8,
   "metadata": {},
   "outputs": [
    {
     "data": {
      "text/plain": [
       "(5572, 37364)"
      ]
     },
     "execution_count": 8,
     "metadata": {},
     "output_type": "execute_result"
    }
   ],
   "source": [
    "from sklearn.feature_extraction.text import TfidfVectorizer\n",
    "\n",
    "tfidf = TfidfVectorizer(ngram_range=(1,2), stop_words='english')\n",
    "X = tfidf.fit_transform(data['text']).toarray()\n",
    "X.shape"
   ]
  },
  {
   "cell_type": "markdown",
   "metadata": {},
   "source": [
    "## 5 - Models\n",
    "\n",
    "### 5.1 - Model Architecture\n",
    "\n",
    "#### 5.1.1 - Base Architecture"
   ]
  },
  {
   "cell_type": "code",
   "execution_count": 9,
   "metadata": {},
   "outputs": [
    {
     "name": "stdout",
     "output_type": "stream",
     "text": [
      "Model: \"sequential\"\n",
      "_________________________________________________________________\n",
      " Layer (type)                Output Shape              Param #   \n",
      "=================================================================\n",
      " simple_rnn (SimpleRNN)      (None, 32)                1196704   \n",
      "                                                                 \n",
      " dense (Dense)               (None, 16)                528       \n",
      "                                                                 \n",
      " dropout (Dropout)           (None, 16)                0         \n",
      "                                                                 \n",
      " dense_1 (Dense)             (None, 1)                 17        \n",
      "                                                                 \n",
      "=================================================================\n",
      "Total params: 1,197,249\n",
      "Trainable params: 1,197,249\n",
      "Non-trainable params: 0\n",
      "_________________________________________________________________\n"
     ]
    }
   ],
   "source": [
    "from tensorflow.keras.models import Sequential\n",
    "from tensorflow.keras.layers import SimpleRNN, Dense, Dropout\n",
    "\n",
    "def create_base_model():\n",
    "    model = Sequential([\n",
    "        SimpleRNN(units=32, activation='relu', input_shape=(1, X.shape[1])),\n",
    "        Dense(16, activation='relu'),\n",
    "        Dropout(0.2),\n",
    "        Dense(1, activation='sigmoid')\n",
    "    ])\n",
    "    model.compile(optimizer='adam', loss='binary_crossentropy', metrics=['accuracy'])\n",
    "    return model\n",
    "\n",
    "create_base_model().summary()"
   ]
  },
  {
   "cell_type": "markdown",
   "metadata": {},
   "source": [
    "The model takes as input an array of size 1 x 1,196,704. The first \"layer\" is a simple RNN with 32 neurons. The ReLU activation function is used after this RNN layer to introduce non-linearity. This is followed by a fully connected layer of 16 neurons. The ReLU activation function is used again following this layer. A dropout layer is then used to help reduce any overfitting by dropping 20% of the neurons in the model so far. The output layer uses the Sigmoid activation function since this is a binary classification problem where the output should be between 0 and 1.\n",
    "\n",
    "#### 5.1.2 - Long Short-Term Memory (LSTM)"
   ]
  },
  {
   "cell_type": "code",
   "execution_count": 10,
   "metadata": {},
   "outputs": [
    {
     "name": "stdout",
     "output_type": "stream",
     "text": [
      "Model: \"sequential_1\"\n",
      "_________________________________________________________________\n",
      " Layer (type)                Output Shape              Param #   \n",
      "=================================================================\n",
      " lstm (LSTM)                 (None, 32)                4786816   \n",
      "                                                                 \n",
      " dense_2 (Dense)             (None, 16)                528       \n",
      "                                                                 \n",
      " dropout_1 (Dropout)         (None, 16)                0         \n",
      "                                                                 \n",
      " dense_3 (Dense)             (None, 1)                 17        \n",
      "                                                                 \n",
      "=================================================================\n",
      "Total params: 4,787,361\n",
      "Trainable params: 4,787,361\n",
      "Non-trainable params: 0\n",
      "_________________________________________________________________\n"
     ]
    }
   ],
   "source": [
    "from tensorflow.keras.layers import LSTM\n",
    "\n",
    "def create_lstm_model():\n",
    "    model = Sequential([\n",
    "        LSTM(units=32, activation='relu', input_shape=(1, X.shape[1])),\n",
    "        Dense(16, activation='relu'),\n",
    "        Dropout(0.2),\n",
    "        Dense(1, activation='sigmoid')\n",
    "    ])\n",
    "    model.compile(optimizer='adam', loss='binary_crossentropy', metrics=['accuracy'])\n",
    "    return model\n",
    "\n",
    "create_lstm_model().summary()"
   ]
  },
  {
   "cell_type": "markdown",
   "metadata": {},
   "source": [
    "This architecture is similar to the base architecture, but the only difference being that this architecture uses an RNN with LSTM instead of a simple RNN.\n",
    "\n",
    "#### 5.1.3 - Gated Recurrent Unit (GRU)"
   ]
  },
  {
   "cell_type": "code",
   "execution_count": 11,
   "metadata": {},
   "outputs": [
    {
     "name": "stdout",
     "output_type": "stream",
     "text": [
      "Model: \"sequential_2\"\n",
      "_________________________________________________________________\n",
      " Layer (type)                Output Shape              Param #   \n",
      "=================================================================\n",
      " gru (GRU)                   (None, 32)                3590208   \n",
      "                                                                 \n",
      " dense_4 (Dense)             (None, 16)                528       \n",
      "                                                                 \n",
      " dropout_2 (Dropout)         (None, 16)                0         \n",
      "                                                                 \n",
      " dense_5 (Dense)             (None, 1)                 17        \n",
      "                                                                 \n",
      "=================================================================\n",
      "Total params: 3,590,753\n",
      "Trainable params: 3,590,753\n",
      "Non-trainable params: 0\n",
      "_________________________________________________________________\n"
     ]
    }
   ],
   "source": [
    "from tensorflow.keras.layers import GRU\n",
    "\n",
    "def create_gru_model():\n",
    "    model = Sequential([\n",
    "        GRU(units=32, activation='relu', input_shape=(1, X.shape[1])),\n",
    "        Dense(16, activation='relu'),\n",
    "        Dropout(0.2),\n",
    "        Dense(1, activation='sigmoid')\n",
    "    ])\n",
    "    model.compile(optimizer='adam', loss='binary_crossentropy', metrics=['accuracy'])\n",
    "    return model\n",
    "\n",
    "create_gru_model().summary()"
   ]
  },
  {
   "cell_type": "markdown",
   "metadata": {},
   "source": [
    "This architecture is similar to the base architecture, but the only difference being that this architecture uses an RNN with GRU instead of a simple RNN.\n",
    "\n",
    "### 5.2 - Training Methods\n",
    "\n",
    "#### 5.2.1 - Model Hyperparameters\n",
    "\n",
    "The model hyperameter that is changed across the models and compared is the input layer. The three models compared use a simple RNN, an RNN wth LSTM, and an RNN with GRU respectively as the first layer.\n",
    "\n",
    "#### 5.2.2 - Training Hyperparameters\n",
    "\n",
    "Due to limited resources in terms of computing power and time, the hyperparameters that will be considered are those involved in training a neural network.\n",
    "\n",
    "The hyperparameters that will be tuned are:\n",
    "- Number of epochs\n",
    "- Batch size"
   ]
  },
  {
   "cell_type": "markdown",
   "metadata": {},
   "source": [
    "## 6 - Results and Analysis\n",
    "\n",
    "### 6.1 - Hyperparameter Tuning\n",
    "\n",
    "#### 6.1.1 - Procedure\n",
    "\n",
    "The hyperparameter tuning procedure will consider 10 and 20 as values for the number of epochs and 64, 128, and 256 as values for the batch size. Each combination of hyperparameters will be used to train the model and the best validation accuracy, the hyperparameters used to achieve that accuracy, and the model trained on those hyperparameters will be stored.\n",
    "\n",
    "#### 6.1.2 - Base Architecture Hyperparameter Tuning\n",
    "\n",
    "To address the class imbalance, the `stratify=y` argument will be passed to the `train_test_split` function to maintain the same proportion of class labels from the original dataset in the training and validation sets."
   ]
  },
  {
   "cell_type": "code",
   "execution_count": 24,
   "metadata": {},
   "outputs": [],
   "source": [
    "from sklearn.model_selection import train_test_split\n",
    "\n",
    "# Split the training set into training and validation sets\n",
    "X_train, X_val, y_train, y_val = train_test_split(X, y, test_size=0.2, stratify=y, random_state=123)\n",
    "\n",
    "# Reshape the input to match RNN input requirements\n",
    "X_train = np.expand_dims(X_train, axis=1)\n",
    "X_val = np.expand_dims(X_val, axis=1)"
   ]
  },
  {
   "cell_type": "code",
   "execution_count": 25,
   "metadata": {},
   "outputs": [],
   "source": [
    "from tensorflow.keras.callbacks import EarlyStopping\n",
    "\n",
    "# Hyperparameters and values considered\n",
    "num_epochs = [10, 20]\n",
    "batch_sizes = [64, 128, 256]\n",
    "\n",
    "# Returns best # of epochs, batch size, validation accuracy, and model\n",
    "def tune_hyperparameters(create_model):\n",
    "    val_accs = {}\n",
    "    best_val_acc = 0\n",
    "    best_h_params = { 'num_epochs': None, 'batch_size': None }\n",
    "    best_hp_model = None\n",
    "    \n",
    "    for epochs in num_epochs:\n",
    "        val_accs[epochs] = {}\n",
    "        for batch_size in batch_sizes:\n",
    "            print(f'# of epochs: {epochs}, batch size: {batch_size}')\n",
    "            model = create_model()\n",
    "            early_stopping = EarlyStopping(monitor='val_accuracy', patience=3, restore_best_weights=True)\n",
    "            history = model.fit(\n",
    "                X_train, y_train,\n",
    "                validation_data=(X_val, y_val),\n",
    "                epochs=epochs,\n",
    "                batch_size=batch_size,\n",
    "                callbacks=[early_stopping],\n",
    "                verbose=0\n",
    "            )\n",
    "            val_acc = max(history.history['val_accuracy'])\n",
    "            print(f'Validation accuracy: {val_acc}')\n",
    "            val_accs[epochs][batch_size] = val_acc\n",
    "            if val_acc > best_val_acc:\n",
    "                best_val_acc = val_acc\n",
    "                best_h_params['num_epochs'] = epochs\n",
    "                best_h_params['batch_size'] = batch_size\n",
    "                best_hp_model = model\n",
    "                \n",
    "    return val_accs, best_val_acc, best_h_params, best_hp_model"
   ]
  },
  {
   "cell_type": "code",
   "execution_count": 26,
   "metadata": {},
   "outputs": [
    {
     "name": "stdout",
     "output_type": "stream",
     "text": [
      "# of epochs: 10, batch size: 64\n",
      "Validation accuracy: 0.9856502413749695\n",
      "# of epochs: 10, batch size: 128\n",
      "Validation accuracy: 0.9838564991950989\n",
      "# of epochs: 10, batch size: 256\n",
      "Validation accuracy: 0.9802690744400024\n",
      "# of epochs: 20, batch size: 64\n",
      "Validation accuracy: 0.9838564991950989\n",
      "# of epochs: 20, batch size: 128\n",
      "Validation accuracy: 0.9793722033500671\n",
      "# of epochs: 20, batch size: 256\n",
      "Validation accuracy: 0.9793722033500671\n"
     ]
    }
   ],
   "source": [
    "base_val_accs, base_best_val_acc, base_best_h_params, base_best_hp_model = tune_hyperparameters(create_base_model)"
   ]
  },
  {
   "cell_type": "code",
   "execution_count": 27,
   "metadata": {},
   "outputs": [
    {
     "name": "stdout",
     "output_type": "stream",
     "text": [
      "Best validation accuracy: 0.9856502413749695\n",
      "Best number of epochs: 10\n",
      "Best batch size: 64\n"
     ]
    }
   ],
   "source": [
    "print(f'Best validation accuracy: {base_best_val_acc}')\n",
    "print(f'Best number of epochs: {base_best_h_params[\"num_epochs\"]}')\n",
    "print(f'Best batch size: {base_best_h_params[\"batch_size\"]}')"
   ]
  },
  {
   "cell_type": "markdown",
   "metadata": {},
   "source": [
    "#### 6.1.3 - LSTM Architecture Hyperparameter Tuning"
   ]
  },
  {
   "cell_type": "code",
   "execution_count": 28,
   "metadata": {},
   "outputs": [
    {
     "name": "stdout",
     "output_type": "stream",
     "text": [
      "# of epochs: 10, batch size: 64\n",
      "Validation accuracy: 0.9829596281051636\n",
      "# of epochs: 10, batch size: 128\n",
      "Validation accuracy: 0.9811659455299377\n",
      "# of epochs: 10, batch size: 256\n",
      "Validation accuracy: 0.9695067405700684\n",
      "# of epochs: 20, batch size: 64\n",
      "Validation accuracy: 0.9856502413749695\n",
      "# of epochs: 20, batch size: 128\n",
      "Validation accuracy: 0.9793722033500671\n",
      "# of epochs: 20, batch size: 256\n",
      "Validation accuracy: 0.9793722033500671\n"
     ]
    }
   ],
   "source": [
    "lstm_val_accs, lstm_best_val_acc, lstm_best_h_params, lstm_best_hp_model = tune_hyperparameters(create_lstm_model)"
   ]
  },
  {
   "cell_type": "code",
   "execution_count": 29,
   "metadata": {},
   "outputs": [
    {
     "name": "stdout",
     "output_type": "stream",
     "text": [
      "Best validation accuracy: 0.9856502413749695\n",
      "Best number of epochs: 20\n",
      "Best batch size: 64\n"
     ]
    }
   ],
   "source": [
    "print(f'Best validation accuracy: {lstm_best_val_acc}')\n",
    "print(f'Best number of epochs: {lstm_best_h_params[\"num_epochs\"]}')\n",
    "print(f'Best batch size: {lstm_best_h_params[\"batch_size\"]}')"
   ]
  },
  {
   "cell_type": "markdown",
   "metadata": {},
   "source": [
    "#### 6.1.4 - GRU Architecture Hyperparameter Tuning"
   ]
  },
  {
   "cell_type": "code",
   "execution_count": 30,
   "metadata": {},
   "outputs": [
    {
     "name": "stdout",
     "output_type": "stream",
     "text": [
      "# of epochs: 10, batch size: 64\n",
      "Validation accuracy: 0.9838564991950989\n",
      "# of epochs: 10, batch size: 128\n",
      "Validation accuracy: 0.9829596281051636\n",
      "# of epochs: 10, batch size: 256\n",
      "Validation accuracy: 0.9721972942352295\n",
      "# of epochs: 20, batch size: 64\n",
      "Validation accuracy: 0.9784753322601318\n",
      "# of epochs: 20, batch size: 128\n",
      "Validation accuracy: 0.9811659455299377\n",
      "# of epochs: 20, batch size: 256\n",
      "Validation accuracy: 0.9802690744400024\n"
     ]
    }
   ],
   "source": [
    "gru_val_accs, gru_best_val_acc, gru_best_h_params, gru_best_hp_model = tune_hyperparameters(create_gru_model)"
   ]
  },
  {
   "cell_type": "code",
   "execution_count": 31,
   "metadata": {},
   "outputs": [
    {
     "name": "stdout",
     "output_type": "stream",
     "text": [
      "Best validation accuracy: 0.9838564991950989\n",
      "Best number of epochs: 10\n",
      "Best batch size: 64\n"
     ]
    }
   ],
   "source": [
    "print(f'Best validation accuracy: {gru_best_val_acc}')\n",
    "print(f'Best number of epochs: {gru_best_h_params[\"num_epochs\"]}')\n",
    "print(f'Best batch size: {gru_best_h_params[\"batch_size\"]}')"
   ]
  },
  {
   "cell_type": "markdown",
   "metadata": {},
   "source": [
    "### 6.2 - Results\n",
    "\n",
    "#### 6.2.1 - Base Architecture\n",
    "\n",
    "|| 64 Batch Size | 128 Batch Size | 256 Batch Size |\n",
    "| :-: | :-: | :-: | :-: |\n",
    "| **10 Epochs** | 0.986 | 0.984 | 0.980 |\n",
    "| **20 Epochs** | 0.984 | 0.979 | 0.979 |\n",
    "\n",
    "The base architecture model trained with a batch size of 64 over 10 epochs gave the best validation accuracy.\n",
    "\n",
    "#### 6.2.2 - LSTM Architecture\n",
    "\n",
    "|| 64 Batch Size | 128 Batch Size | 256 Batch Size |\n",
    "| :-: | :-: | :-: | :-: |\n",
    "| **10 Epochs** | 0.983 | 0.981 | 0.970 |\n",
    "| **20 Epochs** | 0.986 | 0.979 | 0.979 |\n",
    "\n",
    "The LSTM architecture model trained with a batch size of 64 over 20 epochs gave the best validation accuracy.\n",
    "\n",
    "#### 6.2.3 - GRU Architecture\n",
    "\n",
    "|| 64 Batch Size | 128 Batch Size | 256 Batch Size |\n",
    "| :-: | :-: | :-: | :-: |\n",
    "| **10 Epochs** | 0.984 | 0.983 | 0.972 |\n",
    "| **20 Epochs** | 0.978 | 0.981 | 0.980 |\n",
    "\n",
    "The GRU architecture model trained with a batch size of 64 over 10 epochs gave the best validation accuracy.\n",
    "\n",
    "#### 6.2.4 - Summary\n",
    "\n",
    "| Architecture | Best Validation Accuracy |\n",
    "| :-: | :-: |\n",
    "| Base | 0.986 |\n",
    "| LSTM | 0.986 |\n",
    "| GRU | 0.984 |\n",
    "\n",
    "The base and LSTM architectures achieved the best validation accuracy.\n",
    "\n",
    "### 6.3 - Analysis\n",
    "\n",
    "The best validation accuracy obtained through hyperparameter tuning for the base and LSTM architectures were 0.986. The best validation accuracy obtained for the GRU architecture was a little lower at 0.984. Despite LSTM and GRU having advantages over the base model, the same or lower validation accuracies for these models could indicate overfitting."
   ]
  },
  {
   "cell_type": "markdown",
   "metadata": {},
   "source": [
    "## 7 - Conclusion\n",
    "\n",
    "In this project, an RNN was developed and trained with the goal of being able to classify whether an SMS message is spam or not. Three different architectures were considered and compared. Based on hyperparameter tuning results, the models with the base and LSTM architectures had slightly higher performance than the model with the GRU architecture. The takeaway from this project is that an RNN can be trained on this data using a very simple model architecture to achieve accuracies as high as 0.98.\n",
    "\n",
    "Using the LSTM architecture did not help improve performance since the best validation accuracy obtained was the same as the base architecture at 0.986. Similarly, using the GRU architecture did not help improve performance since the best validation accuracy obtained was slightly lower than the base architecture at 0.984. Based on these results, it is possible that these two techniques did not help since the model is overfitting.\n",
    "\n",
    "Some possible improvements to try in the future include decreasing the model complexity and trying different techniques to help improve performance. The models may be overfitting, so experimenting with different techniques that help reduce overfitting may be useful."
   ]
  }
 ],
 "metadata": {
  "kernelspec": {
   "display_name": "Python 3 (ipykernel)",
   "language": "python",
   "name": "python3"
  },
  "language_info": {
   "codemirror_mode": {
    "name": "ipython",
    "version": 3
   },
   "file_extension": ".py",
   "mimetype": "text/x-python",
   "name": "python",
   "nbconvert_exporter": "python",
   "pygments_lexer": "ipython3",
   "version": "3.11.9"
  }
 },
 "nbformat": 4,
 "nbformat_minor": 2
}
